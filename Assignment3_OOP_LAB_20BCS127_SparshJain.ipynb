{
  "nbformat": 4,
  "nbformat_minor": 0,
  "metadata": {
    "colab": {
      "name": "Assignment3_OOP_LAB_20BCS127_SparshJain.ipynb",
      "provenance": [],
      "authorship_tag": "ABX9TyMhzSmWpvRVYx8Jg8VfI2Wc",
      "include_colab_link": true
    },
    "kernelspec": {
      "name": "python3",
      "display_name": "Python 3"
    },
    "language_info": {
      "name": "python"
    }
  },
  "cells": [
    {
      "cell_type": "markdown",
      "metadata": {
        "id": "view-in-github",
        "colab_type": "text"
      },
      "source": [
        "<a href=\"https://colab.research.google.com/github/jainsparsh5/SparshJain_20BCS127_OOP_Task3/blob/main/Assignment3_OOP_LAB_20BCS127_SparshJain.ipynb\" target=\"_parent\"><img src=\"https://colab.research.google.com/assets/colab-badge.svg\" alt=\"Open In Colab\"/></a>"
      ]
    },
    {
      "cell_type": "markdown",
      "metadata": {
        "id": "3svO_s-jdg2q"
      },
      "source": [
        "Problem 1"
      ]
    },
    {
      "cell_type": "code",
      "metadata": {
        "colab": {
          "base_uri": "https://localhost:8080/"
        },
        "id": "iQRiLcfkdiCi",
        "outputId": "e48441da-cced-4ca6-9431-d711127c4d06"
      },
      "source": [
        "class Student:\n",
        "  def set_Data(self):\n",
        "        self.name = input(\"Enter the name of student : \")\n",
        "        self.reg_no = int\n",
        "        (input(\"Enter the Registration Number : \"))\n",
        "        self.age = int(input(\"Enter the age : \"))\n",
        "        self.gender = input(\"Enter Gender : \")\n",
        "        self.branch = input(\"Enter Branch : \")\n",
        "        self.sem = int(input(\"Enter the semester: \"))\n",
        "    \n",
        "  def input_Data(self):\n",
        "        print(f\"\\nStudent information :  \\nName : {self.name} \\nRegistration number : {self.reg_no}  \\nAge : {self.age} \\nGender : {self.gender} \\nBranch : {self.branch} \\n semester : {self.sem}\")\n",
        "\n",
        "class StudentResultInfo(Student):\n",
        "    def set_Data(self):\n",
        "        Student.set_Data(self)\n",
        "        self.total_marks = int(input(\"Enter total marks : \"))\n",
        "        self.percentage = float(input(\"Enter percentage : \"))\n",
        "        self.grade = input(\"Enter grade : \")\n",
        "\n",
        "    def input_Data(self):\n",
        "        Student.input_Data(self)\n",
        "        print(f\"Total Marks : {self.total_marks} \\nPercentage : {self.percentage} \\nGrade : {self.grade}\")\n",
        "\n",
        "s1 = StudentResultInfo()\n",
        "s1.set_Data()\n",
        "s1.input_Data()\n"
      ],
      "execution_count": null,
      "outputs": [
        {
          "output_type": "stream",
          "name": "stdout",
          "text": [
            "Enter the name of student : Sparsh\n",
            "Enter the Registration Number : 127\n",
            "Enter the age : 19\n",
            "Enter Gender : male\n",
            "Enter Branch : cse\n",
            "Enter the semester: 3\n",
            "Enter total marks : 490\n",
            "Enter percentage : 96\n",
            "Enter grade : A\n",
            "\n",
            "Student information :  \n",
            "Name : Sparsh \n",
            "Registration number : <class 'int'>  \n",
            "Age : 19 \n",
            "Gender : male \n",
            "Branch : cse \n",
            " semester : 3\n",
            "Total Marks : 490 \n",
            "Percentage : 96.0 \n",
            "Grade : A\n"
          ]
        }
      ]
    },
    {
      "cell_type": "markdown",
      "metadata": {
        "id": "vSY5NUN_efo2"
      },
      "source": [
        "Problem 2"
      ]
    },
    {
      "cell_type": "code",
      "metadata": {
        "colab": {
          "base_uri": "https://localhost:8080/"
        },
        "id": "b3rovC8ZegwQ",
        "outputId": "912ed25b-2d48-41b5-f500-16548ad069e7"
      },
      "source": [
        "class PDF:\n",
        "    maxSize = 6000\n",
        "    def __init__(self):\n",
        "        self.creator = input(\"Enter the name of creator  : \")\n",
        "        self.description = input(\"Enter the description of the PDF : \")\n",
        "        self.fileSize = int(input(\"Enter file size (Kb) : \"))\n",
        "\n",
        "    def displayDetails(self):\n",
        "        print(f\"Creator : {self.creator} \\nDescription : {self.description} \\nFile Size : {self.fileSize}\")\n",
        "\n",
        "    def checkSize(self):\n",
        "        if self.maxSize < self.fileSize:\n",
        "            print(\"File size is beyond threshold\")\n",
        "\n",
        "\n",
        "class Pictures:\n",
        "    maxDimensions = [1280, 720]\n",
        "    maxSize = 5000\n",
        "    def __init__(self):\n",
        "        self.creator = input(\"Enter the name of creator : \")\n",
        "        self.description = input(\"Enter the description of the image : \")\n",
        "        self.imgDimensions = input(\"Enter image dimensions with space bw : \").split(\" \")\n",
        "        self.fileSize = int(input(\"Enter file size (Kb) : \"))\n",
        "\n",
        "    def displayDetails(self):\n",
        "        print(f\"Creator : {self.creator} \\nDescription : {self.description} \\nImage Dimensions : {self.imgDimensions} \\nFile Size : {self.fileSize}\")\n",
        "\n",
        "    def checkDimensions(self):\n",
        "        if self.maxDimensions[0] < int(self.imgDimensions[0]) or self.maxDimensions[1] < int(self.imgDimensions[1]):\n",
        "            print(\"Image Dimensions is too high\")\n",
        "\n",
        "    def checkSize(self):\n",
        "        if self.fileSize > self.maxSize:\n",
        "            print(\"File size is beyond threshold\")\n",
        "\n",
        "class CMS(PDF, Pictures):\n",
        "    def __init__(self):\n",
        "        self.PDFlist = [ ]\n",
        "        self.PicturesList = [ ]\n",
        "    \n",
        "    def addPDF(self):\n",
        "        temp = PDF()\n",
        "        self.PDFlist.append(temp)\n",
        "\n",
        "    def addPictures(self):\n",
        "        temp = Pictures()\n",
        "        self.PicturesList.append(temp)\n",
        "\n",
        "    def displayDetails(self):\n",
        "        print(\"PDF details : \")\n",
        "        for element in self.PDFlist:\n",
        "            element.displayDetails()\n",
        "\n",
        "        print(\"Pictures Details : \")\n",
        "        for element in self.PicturesList:\n",
        "            element.displayDetails()\n",
        "\n",
        "    \n",
        "cms1 = CMS()\n",
        "cms1.addPDF()\n",
        "cms1.addPictures()\n",
        "cms1.addPDF()\n",
        "cms1.addPictures()\n",
        "cms1.displayDetails()\n",
        "cms1.PDFlist[1].checkSize()\n",
        "cms1.PicturesList[1].checkSize()\n",
        "cms1.PicturesList[1].checkDimensions()\n"
      ],
      "execution_count": null,
      "outputs": [
        {
          "output_type": "stream",
          "name": "stdout",
          "text": [
            "Enter the name of creator  : Sparsh\n",
            "Enter the description of the PDF : flower\n",
            "Enter file size (Kb) : 200\n",
            "Enter the name of creator : divij\n",
            "Enter the description of the image : cat\n",
            "Enter image dimensions with space bw : 400 800\n",
            "Enter file size (Kb) : 200\n",
            "Enter the name of creator  : vipin\n",
            "Enter the description of the PDF : man\n",
            "Enter file size (Kb) : 200\n",
            "Enter the name of creator : kriti\n",
            "Enter the description of the image : rose\n",
            "Enter image dimensions with space bw : 200 400\n",
            "Enter file size (Kb) : 200\n",
            "PDF details : \n",
            "Creator : Sparsh \n",
            "Description : flower \n",
            "File Size : 200\n",
            "Creator : vipin \n",
            "Description : man \n",
            "File Size : 200\n",
            "Pictures Details : \n",
            "Creator : divij \n",
            "Description : cat \n",
            "Image Dimensions : ['400', '800'] \n",
            "File Size : 200\n",
            "Creator : kriti \n",
            "Description : rose \n",
            "Image Dimensions : ['200', '400'] \n",
            "File Size : 200\n"
          ]
        }
      ]
    },
    {
      "cell_type": "markdown",
      "metadata": {
        "id": "SAfR1Qv-gBlL"
      },
      "source": [
        "Problem 3"
      ]
    },
    {
      "cell_type": "code",
      "metadata": {
        "colab": {
          "base_uri": "https://localhost:8080/"
        },
        "id": "k7WWz_drgCvr",
        "outputId": "99014b4f-1035-420d-d401-c9b2f3c844a2"
      },
      "source": [
        "class Vehicle:\n",
        "  def __init__(self,name,mileage,capacity):\n",
        "    self.name=name\n",
        "    self.mileage=mileage\n",
        "    self.capacity=capacity\n",
        "  def bus_fare(self):\n",
        "    if(self.name != \"bus\" or \"BUS\" or \"Bus\"):\n",
        "      fare = self.capacity*100\n",
        "      print(\"Fare charges is = {} \\n\".format(fare))\n",
        "  def info(self):\n",
        "    print(\" Name = {} \\nMileage = {} \\nCapacity = {}\".format(self.name,self.mileage,self.capacity))\n",
        "\n",
        "class Bus(Vehicle):\n",
        "  def __init__(self,name,mileage,capacity):\n",
        "    Vehicle.__init__(self,name,mileage,capacity)\n",
        "  def Fare(self):\n",
        "    if(self.name == \"bus\" or self.name == \"BUS\" or self.name == \"Bus\"):\n",
        "      fare = self.capacity*100 +self.capacity*10\n",
        "      print(\"Total fare is = \",format(fare))  \n",
        "    else:\n",
        "      fare = self.capacity*100\n",
        "      print(\"Fare charges is = \",format(fare))\n",
        "      \n",
        "\n",
        "p1 = Bus(\"BUS\",50,60)\n",
        "p1.Fare()\n",
        "p1.info()\n",
        "p2 = Bus(\"bike\",200,5)\n",
        "p2.Fare()\n",
        "p2.info()\n",
        "p3 = Bus(\"car\",250,5)\n",
        "p3.Fare()\n",
        "p3.info()\n"
      ],
      "execution_count": null,
      "outputs": [
        {
          "output_type": "stream",
          "name": "stdout",
          "text": [
            "Total fare is =  6600\n",
            " Name = BUS \n",
            "Mileage = 50 \n",
            "Capacity = 60\n",
            "Fare charges is =  500\n",
            " Name = bike \n",
            "Mileage = 200 \n",
            "Capacity = 5\n",
            "Fare charges is =  500\n",
            " Name = car \n",
            "Mileage = 250 \n",
            "Capacity = 5\n"
          ]
        }
      ]
    }
  ]
}